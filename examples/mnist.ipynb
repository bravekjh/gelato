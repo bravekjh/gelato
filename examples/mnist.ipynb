{
 "cells": [
  {
   "cell_type": "markdown",
   "metadata": {},
   "source": [
    "# Bayesian neural networks\n",
    "## Gelato: PyMC3 and Lasagne bridge"
   ]
  },
  {
   "cell_type": "markdown",
   "metadata": {},
   "source": [
    "I was inspired by [@twieky](https://github.com/twiecki) and his great [post](http://twiecki.github.io/blog/2016/07/05/bayesian-deep-learning/) about bayesian neural networks. But I thought that that way of creating BNNs is not obvious and easy for people. That's why I decided to make a bridge for `PyMC3` and `Lasagne`."
   ]
  },
  {
   "cell_type": "code",
   "execution_count": null,
   "metadata": {
    "collapsed": false
   },
   "outputs": [],
   "source": [
    "import matplotlib.pyplot as plt\n",
    "%matplotlib inline\n",
    "import gelato\n",
    "from gelato.variational.elbo import sample_elbo\n",
    "from gelato.layers.helper import get_output\n",
    "import lasagne.updates as updates\n",
    "import theano\n",
    "import theano.tensor as tt\n",
    "import numpy as np\n",
    "import lasagne\n",
    "import pymc3 as pm\n",
    "import warnings\n",
    "warnings.filterwarnings('ignore')"
   ]
  },
  {
   "cell_type": "markdown",
   "metadata": {},
   "source": [
    "I will use his convolution bnn from the post as an example of how to use gelato API\n",
    "## Load Data"
   ]
  },
  {
   "cell_type": "code",
   "execution_count": null,
   "metadata": {
    "collapsed": false
   },
   "outputs": [],
   "source": [
    "import sys, os\n",
    "\n",
    "def load_dataset():\n",
    "    # We first define a download function, supporting both Python 2 and 3.\n",
    "    if sys.version_info[0] == 2:\n",
    "        from urllib import urlretrieve\n",
    "    else:\n",
    "        from urllib.request import urlretrieve\n",
    "\n",
    "    def download(filename, source='http://yann.lecun.com/exdb/mnist/'):\n",
    "        print(\"Downloading %s\" % filename)\n",
    "        urlretrieve(source + filename, filename)\n",
    "\n",
    "    # We then define functions for loading MNIST images and labels.\n",
    "    # For convenience, they also download the requested files if needed.\n",
    "    import gzip\n",
    "\n",
    "    def load_mnist_images(filename):\n",
    "        if not os.path.exists(filename):\n",
    "            download(filename)\n",
    "        # Read the inputs in Yann LeCun's binary format.\n",
    "        with gzip.open(filename, 'rb') as f:\n",
    "            data = np.frombuffer(f.read(), np.uint8, offset=16)\n",
    "        # The inputs are vectors now, we reshape them to monochrome 2D images,\n",
    "        # following the shape convention: (examples, channels, rows, columns)\n",
    "        data = data.reshape(-1, 1, 28, 28)\n",
    "        # The inputs come as bytes, we convert them to float32 in range [0,1].\n",
    "        # (Actually to range [0, 255/256], for compatibility to the version\n",
    "        # provided at http://deeplearning.net/data/mnist/mnist.pkl.gz.)\n",
    "        return data / np.float32(256)\n",
    "\n",
    "    def load_mnist_labels(filename):\n",
    "        if not os.path.exists(filename):\n",
    "            download(filename)\n",
    "        # Read the labels in Yann LeCun's binary format.\n",
    "        with gzip.open(filename, 'rb') as f:\n",
    "            data = np.frombuffer(f.read(), np.uint8, offset=8)\n",
    "        # The labels are vectors of integers now, that's exactly what we want.\n",
    "        return data\n",
    "\n",
    "    # We can now download and read the training and test set images and labels.\n",
    "    X_train = load_mnist_images('train-images-idx3-ubyte.gz')\n",
    "    y_train = load_mnist_labels('train-labels-idx1-ubyte.gz')\n",
    "    X_test = load_mnist_images('t10k-images-idx3-ubyte.gz')\n",
    "    y_test = load_mnist_labels('t10k-labels-idx1-ubyte.gz')\n",
    "\n",
    "    # We reserve the last 10000 training examples for validation.\n",
    "    X_train, X_val = X_train[:-10000], X_train[-10000:]\n",
    "    y_train, y_val = y_train[:-10000], y_train[-10000:]\n",
    "\n",
    "    # We just return all the arrays in order, as expected in main().\n",
    "    # (It doesn't matter how we do this as long as we can read them again.)\n",
    "    return X_train, y_train, X_val, y_val, X_test, y_test\n",
    "\n",
    "print(\"Loading data...\")\n",
    "X_train, y_train, X_val, y_val, X_test, y_test = load_dataset()"
   ]
  },
  {
   "cell_type": "code",
   "execution_count": null,
   "metadata": {
    "collapsed": true
   },
   "outputs": [],
   "source": [
    "input_var = theano.shared(X_train[:500, ...].astype(np.float64))\n",
    "target_var = theano.shared(y_train[:500, ...].astype(np.float64))"
   ]
  },
  {
   "cell_type": "code",
   "execution_count": 80,
   "metadata": {
    "collapsed": true
   },
   "outputs": [],
   "source": [
    "minibatch_tensors = [input_var, target_var]\n",
    "\n",
    "# Generator that returns mini-batches in each iteration\n",
    "def create_minibatch(data, batchsize=500):\n",
    "    \n",
    "    rng = np.random.RandomState(0)\n",
    "    start_idx = 0\n",
    "    while True:\n",
    "        # Return random data samples of set size batchsize each iteration\n",
    "        ixs = rng.randint(data.shape[0], size=batchsize)\n",
    "        yield data[ixs]\n",
    "\n",
    "minibatches = zip(\n",
    "    create_minibatch(X_train, 128),\n",
    "    create_minibatch(y_train, 128),\n",
    ")\n",
    "total_size = len(y_train)"
   ]
  },
  {
   "cell_type": "markdown",
   "metadata": {},
   "source": [
    "## Create priors for weights\n",
    "Gelato has a flexible way to define a prior on weight instead of just shared variable. That allows to deal with uncertanty in weights and in predictions as well. \n",
    "### Disclamer\n",
    "I have to note that Gelato has some overhead magic with wrappring lasagne layers. Espessially there is no need to use gelato layer if you pass gelato `Spec` class to lasagne layer to define a weight. But using them happens to be very convenient. There is a handy function `set_default_spec` that declares what prior to use if none specified."
   ]
  },
  {
   "cell_type": "markdown",
   "metadata": {},
   "source": [
    "## Hierarchical prior"
   ]
  },
  {
   "cell_type": "code",
   "execution_count": null,
   "metadata": {
    "collapsed": false
   },
   "outputs": [],
   "source": [
    "from gelato.spec import NormalSpec, LognormalSpec, set_default_spec\n",
    "# Now every layer without passed specs will use `NormalSpec(sd=LognormalSpec(sd=1))` as a prior\n",
    "set_default_spec(NormalSpec(sd=LognormalSpec(sd=1)))"
   ]
  },
  {
   "cell_type": "markdown",
   "metadata": {},
   "source": [
    "## Network"
   ]
  },
  {
   "cell_type": "code",
   "execution_count": null,
   "metadata": {
    "collapsed": false
   },
   "outputs": [],
   "source": [
    "with pm.Model() as model:\n",
    "    network = gelato.layers.InputLayer(shape=(None, 1, 28, 28),\n",
    "                                        input_var=input_var)\n",
    "\n",
    "    network = gelato.layers.Conv2DLayer(\n",
    "            network, num_filters=32, filter_size=(5, 5),\n",
    "            nonlinearity=lasagne.nonlinearities.tanh)\n",
    "\n",
    "    # Max-pooling layer of factor 2 in both dimensions:\n",
    "    network = gelato.layers.MaxPool2DLayer(network, pool_size=(2, 2))\n",
    "\n",
    "    # Another convolution with 32 5x5 kernels, and another 2x2 pooling:\n",
    "    network = gelato.layers.Conv2DLayer(\n",
    "        network, num_filters=32, filter_size=(5, 5),\n",
    "        nonlinearity=lasagne.nonlinearities.tanh)\n",
    "    \n",
    "    network = gelato.layers.MaxPool2DLayer(network, \n",
    "                                            pool_size=(2, 2))\n",
    "    \n",
    "    n_hid2 = 256\n",
    "    network = gelato.layers.DenseLayer(\n",
    "        network, num_units=n_hid2,\n",
    "        nonlinearity=lasagne.nonlinearities.tanh,\n",
    "    )\n",
    "\n",
    "    # Finally, we'll add the fully-connected output layer, of 10 softmax units:\n",
    "    network = gelato.layers.DenseLayer(\n",
    "        network, num_units=10,\n",
    "        nonlinearity=lasagne.nonlinearities.softmax,\n",
    "    )\n",
    "    \n",
    "    prediction = gelato.layers.get_output(network)\n",
    "    \n",
    "    likelihood = pm.Categorical('out', \n",
    "                   prediction,\n",
    "                   observed=target_var)"
   ]
  },
  {
   "cell_type": "markdown",
   "metadata": {},
   "source": [
    "In `gelato.variational` module you can find the essential thing like `elbo.sample_elbo`. Passing a pymc3 model to this function you will get symbolic elbo samples and trainable variational params.\n",
    "\n",
    "```python\n",
    "sample_elbo(model, population=None, samples=1, pi=1, vp=None):\n",
    "    \"\"\" pi*KL[q(w|mu,rho)||p(w)] + E_q[log p(D|w)]\n",
    "    approximated by Monte Carlo sampling\n",
    "\n",
    "    Parameters\n",
    "    ----------\n",
    "    model : pymc3.Model\n",
    "    population : dict - maps observed_RV to its population size\n",
    "        if not provided defaults to full population\n",
    "    samples : number of Monte Carlo samples used for approximation,\n",
    "        defaults to 1\n",
    "    pi : additional coefficient for KL[q(w|mu,rho)||p(w)] as proposed in [1]_\n",
    "    vp : gelato.variational.utils.VariatioanalParams\n",
    "        tuple, holding nodes mappings with shared params, if None - new\n",
    "        will be created\n",
    "\n",
    "    Returns\n",
    "    -------\n",
    "    (elbos, updates, VariationalParams)\n",
    "        sampled elbos, updates for random streams, shared dicts\n",
    "\n",
    "    Notes\n",
    "    -----\n",
    "    You can pass tensors for `pi`  and `samples` to control them while\n",
    "        training\n",
    "\n",
    "    References\n",
    "    ----------\n",
    "    .. [1] Charles Blundell et al: \"Weight Uncertainty in Neural Networks\"\n",
    "        arXiv preprint arXiv:1505.05424\n",
    "    \"\"\"\n",
    "```\n",
    "Number of samples can be set arbitrary with shared var so you can control gradient variance during training. \n",
    "\n",
    "Variational cost part can be weighted with `pi` it is usefull for making early steps in traning when likelihood is more important than model complexity"
   ]
  },
  {
   "cell_type": "markdown",
   "metadata": {},
   "source": [
    "$$ELBO=pi*KL[q(w|mu,rho)||p(w)] + E_q[log p(D|w)]$$"
   ]
  },
  {
   "cell_type": "markdown",
   "metadata": {},
   "source": [
    "Getting ELBO for model and optimizing it is quite easy and can be cone just in few lines. As we will perform batch training we have to say what population size we have for observed var or else we'll get invalid approximation."
   ]
  },
  {
   "cell_type": "code",
   "execution_count": null,
   "metadata": {
    "collapsed": false
   },
   "outputs": [],
   "source": [
    "s = theano.shared(1)\n",
    "pi = theano.shared(1)\n",
    "elbos, upd_rng, vp = sample_elbo(model, samples=s, \n",
    "                                 population={likelihood:y_train.size}, pi=pi)\n",
    "upd_adam = updates.adam(-elbos.mean(), vp.params)\n",
    "upd_rng.update(upd_adam)\n",
    "step = theano.function([], elbos.mean(), updates=upd_rng)"
   ]
  },
  {
   "cell_type": "code",
   "execution_count": null,
   "metadata": {
    "collapsed": true
   },
   "outputs": [],
   "source": [
    "hist = []"
   ]
  },
  {
   "cell_type": "markdown",
   "metadata": {},
   "source": [
    "## Looping\n",
    "I was doung training on 10hr CPU for about a day, average CPU load was 760%. In the end I changed number of samples to 5 to fine-tune my network"
   ]
  },
  {
   "cell_type": "code",
   "execution_count": null,
   "metadata": {
    "collapsed": false
   },
   "outputs": [],
   "source": [
    "while True:\n",
    "    try:\n",
    "        hist.append(step())\n",
    "        print('[{:<10}]  '.format(len(hist)), \n",
    "              '  cur[{:<20}]'.format(float(hist[-1])),\n",
    "              '  mean[{:<20}]'.format(float(np.mean(hist[-100:]))), \n",
    "              '  std[{:<20}]'.format(float(np.std(hist[-100:]))), \n",
    "              file=open('log.txt', 'a'), sep='')\n",
    "        if len(hist) % 5 == 0:\n",
    "            x, y = next(minibatches)\n",
    "            input_var.set_value(x)\n",
    "            target_var.set_value(y)\n",
    "    except KeyboardInterrupt:\n",
    "        print(\"I'm Done\")\n",
    "        break"
   ]
  },
  {
   "cell_type": "code",
   "execution_count": 144,
   "metadata": {
    "collapsed": false,
    "scrolled": false
   },
   "outputs": [
    {
     "data": {
      "image/png": "[encoded data removed]",
      "text/plain": [
       "<matplotlib.figure.Figure at 0x7f2076181d68>"
      ]
     },
     "metadata": {},
     "output_type": "display_data"
    }
   ],
   "source": [
    "plt.figure(figsize=(16,9))\n",
    "plt.plot(np.array(hist), alpha=.3);"
   ]
  },
  {
   "cell_type": "markdown",
   "metadata": {},
   "source": [
    "For getting uncertanty of our model there is a helper in `gelato.layers.get_output`. It will replace all nodes with gaussian optimization result or just means if `dererministic=True`"
   ]
  },
  {
   "cell_type": "code",
   "execution_count": 84,
   "metadata": {
    "collapsed": false
   },
   "outputs": [],
   "source": [
    "prediction = gelato.layers.get_output(network, vp=vp, deterministic=False)"
   ]
  },
  {
   "cell_type": "code",
   "execution_count": 97,
   "metadata": {
    "collapsed": false
   },
   "outputs": [],
   "source": [
    "inpimg = tt.tensor4('input')\n",
    "inpimg.tag.test_value = X_test[0][None,...]\n",
    "it = tt.iscalar('i')\n",
    "it.tag.test_value = 10\n",
    "predgraph = theano.clone(prediction, {input_var:inpimg})"
   ]
  },
  {
   "cell_type": "code",
   "execution_count": 98,
   "metadata": {
    "collapsed": false
   },
   "outputs": [],
   "source": [
    "preds, upd = theano.scan(lambda:predgraph, outputs_info=None, n_steps=it)\n",
    "predict_f = theano.function([inpimg, theano.In(it, 's', 10)], preds, updates=upd)\n",
    "sampled_preds = predict_f(X_test)\n",
    "y_pred = sampled_preds.mean(0).argmax(1)\n",
    "errors = y_test != y_pred"
   ]
  },
  {
   "cell_type": "markdown",
   "metadata": {},
   "source": [
    "## Disclamer\n",
    "The least thing I cared about was performance. I think poor results are due to my hierarchical prior that caused overfitting."
   ]
  },
  {
   "cell_type": "code",
   "execution_count": 156,
   "metadata": {
    "collapsed": false
   },
   "outputs": [
    {
     "data": {
      "text/plain": [
       "0.14219999999999999"
      ]
     },
     "execution_count": 156,
     "metadata": {},
     "output_type": "execute_result"
    }
   ],
   "source": [
    "np.mean(errors)"
   ]
  },
  {
   "cell_type": "code",
   "execution_count": 154,
   "metadata": {
    "collapsed": false
   },
   "outputs": [
    {
     "name": "stdout",
     "output_type": "stream",
     "text": [
      "true: 5 prediction: 6\n"
     ]
    },
    {
     "data": {
      "text/plain": [
       "<matplotlib.figure.Figure at 0x7f20764d7668>"
      ]
     },
     "metadata": {},
     "output_type": "display_data"
    },
    {
     "data": {
      "image/png": "[encoded data removed]",
      "text/plain": [
       "<matplotlib.figure.Figure at 0x7f20764d7400>"
      ]
     },
     "metadata": {},
     "output_type": "display_data"
    }
   ],
   "source": [
    "print('true:', y_test[errors][0],'prediction:', y_pred[errors][0])\n",
    "plt.gray();plt.matshow(X_test[errors][0][0]);plt.show()"
   ]
  },
  {
   "cell_type": "code",
   "execution_count": 155,
   "metadata": {
    "collapsed": false
   },
   "outputs": [
    {
     "name": "stdout",
     "output_type": "stream",
     "text": [
      "true: 5 prediction: 3\n"
     ]
    },
    {
     "data": {
      "text/plain": [
       "<matplotlib.figure.Figure at 0x7f20840e6e80>"
      ]
     },
     "metadata": {},
     "output_type": "display_data"
    },
    {
     "data": {
      "image/png": "[encoded data removed]",
      "text/plain": [
       "<matplotlib.figure.Figure at 0x7f20840e6f98>"
      ]
     },
     "metadata": {},
     "output_type": "display_data"
    }
   ],
   "source": [
    "print('true:',y_test[errors][1],'prediction:', y_pred[errors][1])\n",
    "plt.gray();plt.matshow(X_test[errors][1][0]);plt.show()"
   ]
  },
  {
   "cell_type": "markdown",
   "metadata": {},
   "source": [
    "# Uncertanty\n",
    "Let's calculate average variance in correct pedictions and wrong predictions. I don't use Chi squared statistics to illustrate the difference as [@twieky](https://github.com/twiecki) did. But still, this picture gives an evidence that mistakes are done with more quantity of uncertanty and thus can be potentially treated as problebatic examples "
   ]
  },
  {
   "cell_type": "code",
   "execution_count": 130,
   "metadata": {
    "collapsed": false,
    "scrolled": true
   },
   "outputs": [
    {
     "data": {
      "text/plain": [
       "<matplotlib.legend.Legend at 0x7f2083d03ac8>"
      ]
     },
     "execution_count": 130,
     "metadata": {},
     "output_type": "execute_result"
    },
    {
     "data": {
      "image/png": "[encoded data removed]",
      "text/plain": [
       "<matplotlib.figure.Figure at 0x7f20788ac6d8>"
      ]
     },
     "metadata": {},
     "output_type": "display_data"
    }
   ],
   "source": [
    "plt.plot(sampled_preds.var(0)[errors].mean(0), label='errors')\n",
    "plt.plot(sampled_preds.var(0)[~errors].mean(0), label='correct')\n",
    "plt.plot(sampled_preds.var(0).mean(0), label='all')\n",
    "plt.legend()"
   ]
  }
 ],
 "metadata": {
  "kernelspec": {
   "display_name": "Python 3",
   "language": "python",
   "name": "python3"
  },
  "language_info": {
   "codemirror_mode": {
    "name": "ipython",
    "version": 3
   },
   "file_extension": ".py",
   "mimetype": "text/x-python",
   "name": "python",
   "nbconvert_exporter": "python",
   "pygments_lexer": "ipython3",
   "version": "3.5.2"
  }
 },
 "nbformat": 4,
 "nbformat_minor": 0
}
