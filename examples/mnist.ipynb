{
 "cells": [
  {
   "cell_type": "markdown",
   "metadata": {},
   "source": [
    "I was inspired by [@twiecki](https://github.com/twiecki) and his great [post](http://twiecki.github.io/blog/2016/07/05/bayesian-deep-learning/) about Bayesian neural networks. But I thought that that way of creating BNNs is not obvious and easy for people. That's why I decided to make [Gelato](https://github.com/ferrine/gelato) that is a bridge for [PyMC3](https://github.com/pymc-devs/pymc3) and [Lasagne](https://github.com/Lasagne/Lasagne).\n",
    "I will use his convolution bnn from the post as an example of how to use gelato API."
   ]
  },
  {
   "cell_type": "code",
   "execution_count": 1,
   "metadata": {},
   "outputs": [
    {
     "name": "stdout",
     "output_type": "stream",
     "text": [
      "env: THEANO_FLAGS=device=cuda0\n"
     ]
    },
    {
     "name": "stderr",
     "output_type": "stream",
     "text": [
      "Using cuDNN version 5105 on context None\n",
      "Mapped name None to device cuda0: Tesla K40m (0000:02:00.0)\n"
     ]
    }
   ],
   "source": [
    "%env THEANO_FLAGS=device=cuda0\n",
    "import matplotlib.pyplot as plt\n",
    "%matplotlib inline\n",
    "import gelato\n",
    "import theano\n",
    "import theano.tensor as tt\n",
    "theano.config.warn_float64 = 'warn'\n",
    "import numpy as np\n",
    "import lasagne\n",
    "import pymc3 as pm"
   ]
  },
  {
   "cell_type": "markdown",
   "metadata": {},
   "source": [
    "## Load Data"
   ]
  },
  {
   "cell_type": "code",
   "execution_count": 2,
   "metadata": {},
   "outputs": [
    {
     "name": "stdout",
     "output_type": "stream",
     "text": [
      "Loading data...\n"
     ]
    }
   ],
   "source": [
    "from sklearn.datasets import fetch_mldata\n",
    "from sklearn.model_selection import train_test_split\n",
    "\n",
    "def load_dataset():\n",
    "    # We first define a download function, supporting both Python 2 and 3.\n",
    "    mnist = fetch_mldata('MNIST original')\n",
    "    data = mnist['data'].reshape((70000, 1, 28, 28))\n",
    "    target = mnist['target']\n",
    "    # We can now download and read the training and test set images and labels.\n",
    "    X_train, X_test, y_train, y_test = train_test_split(data, target, test_size=10000)\n",
    "    # We reserve the last 10000 training examples for validation.\n",
    "    X_train, X_val = X_train[:-10000], X_train[-10000:]\n",
    "    y_train, y_val = y_train[:-10000], y_train[-10000:]\n",
    "\n",
    "    # We just return all the arrays in order, as expected in main().\n",
    "    # (It doesn't matter how we do this as long as we can read them again.)\n",
    "    return X_train, y_train, X_val, y_val, X_test, y_test\n",
    "\n",
    "print(\"Loading data...\")\n",
    "X_train, y_train, X_val, y_val, X_test, y_test = load_dataset()\n",
    "total_size = X_train.shape[0]"
   ]
  },
  {
   "cell_type": "markdown",
   "metadata": {},
   "source": [
    "## Create priors for weights (Spec classes)\n",
    "Gelato has a flexible way to define a prior on weight instead of just shared variable. It supports a lot of features, listed below.\n",
    "\n",
    "Basicly, Specification (`Spec`) is a delayed expression that depends on shape. I made possible to combine them with tensor operations, manipulate shape and apply custom delayed functions. "
   ]
  },
  {
   "cell_type": "code",
   "execution_count": 3,
   "metadata": {},
   "outputs": [
    {
     "data": {
      "text/plain": [
       "SpecOp.__mul__"
      ]
     },
     "execution_count": 3,
     "metadata": {},
     "output_type": "execute_result"
    }
   ],
   "source": [
    "from gelato.specs import NormalSpec\n",
    "expr = NormalSpec() * NormalSpec().with_shape(())\n",
    "expr"
   ]
  },
  {
   "cell_type": "markdown",
   "metadata": {},
   "source": [
    "`Spec` behaves like a tensor and has the same methods "
   ]
  },
  {
   "cell_type": "code",
   "execution_count": 4,
   "metadata": {},
   "outputs": [
    {
     "data": {
      "text/plain": [
       "['arccosh',\n",
       " 'arcsin',\n",
       " 'arcsinh',\n",
       " 'arctan',\n",
       " 'arctanh',\n",
       " 'argmax',\n",
       " 'argmin',\n",
       " 'args',\n",
       " 'argsort',\n",
       " 'astype']"
      ]
     },
     "execution_count": 4,
     "metadata": {},
     "output_type": "execute_result"
    }
   ],
   "source": [
    "dir(expr)[70:80]"
   ]
  },
  {
   "cell_type": "markdown",
   "metadata": {},
   "source": [
    "Methods are used as usually, but instead of a tensor we get another `Spec` instance."
   ]
  },
  {
   "cell_type": "code",
   "execution_count": 5,
   "metadata": {},
   "outputs": [
    {
     "data": {
      "text/plain": [
       "SpecOp.argmin"
      ]
     },
     "execution_count": 5,
     "metadata": {},
     "output_type": "execute_result"
    }
   ],
   "source": [
    "expr.argmin()"
   ]
  },
  {
   "cell_type": "markdown",
   "metadata": {},
   "source": [
    "These operations are dalayed until user calls `expr(shape)`. When that happens this shape is passed to all defined specs in expression tree. This tree is evaluated and pymc3 variables are created, one per spec instance and shape for it (there exsist some corner cases when one spec instance can get 2 different shapes)."
   ]
  },
  {
   "cell_type": "code",
   "execution_count": 6,
   "metadata": {},
   "outputs": [],
   "source": [
    "with pm.Model() as model:\n",
    "    expr((100, 2))"
   ]
  },
  {
   "cell_type": "code",
   "execution_count": 7,
   "metadata": {},
   "outputs": [
    {
     "data": {
      "text/plain": [
       "[auto_1, auto_4]"
      ]
     },
     "execution_count": 7,
     "metadata": {},
     "output_type": "execute_result"
    }
   ],
   "source": [
    "model.vars"
   ]
  },
  {
   "cell_type": "markdown",
   "metadata": {},
   "source": [
    "Note that in example above we specified one variable without shape and other `.with_shape(())`. So when expression is evaluated this custom shape replaces the shape that was provided in `__call__`."
   ]
  },
  {
   "cell_type": "code",
   "execution_count": 8,
   "metadata": {},
   "outputs": [
    {
     "data": {
      "text/plain": [
       "[(100, 2), ()]"
      ]
     },
     "execution_count": 8,
     "metadata": {},
     "output_type": "execute_result"
    }
   ],
   "source": [
    "list(map(lambda v: v.dshape, model.vars))"
   ]
  },
  {
   "cell_type": "markdown",
   "metadata": {},
   "source": [
    "More complex cases can require more accurate shape handling. This can be achived with `tags`."
   ]
  },
  {
   "cell_type": "code",
   "execution_count": 9,
   "metadata": {
    "collapsed": true
   },
   "outputs": [],
   "source": [
    "expr = NormalSpec().with_tag('one') * NormalSpec().with_tag('two') + NormalSpec()"
   ]
  },
  {
   "cell_type": "markdown",
   "metadata": {},
   "source": [
    "Now if we try to call the expression without tags or we will get __KeyError__. Unspecified shape is *default*  tag."
   ]
  },
  {
   "cell_type": "code",
   "execution_count": 10,
   "metadata": {},
   "outputs": [
    {
     "data": {
      "text/plain": [
       "[(100, 2), (), (100, 1)]"
      ]
     },
     "execution_count": 10,
     "metadata": {},
     "output_type": "execute_result"
    }
   ],
   "source": [
    "with pm.Model() as model:\n",
    "    expr(dict(one=(100, 2), two=(), default=(100, 1)))\n",
    "list(map(lambda v: v.dshape, model.vars))"
   ]
  },
  {
   "cell_type": "markdown",
   "metadata": {},
   "source": [
    "Sometimes it is usefull to change shape with a function, it maps shape to shape"
   ]
  },
  {
   "cell_type": "code",
   "execution_count": 11,
   "metadata": {
    "collapsed": true
   },
   "outputs": [],
   "source": [
    "expr = NormalSpec().with_shape(lambda s: (1,) * len(s)) * NormalSpec()"
   ]
  },
  {
   "cell_type": "code",
   "execution_count": 12,
   "metadata": {},
   "outputs": [
    {
     "data": {
      "text/plain": [
       "[(1, 1), (10, 10)]"
      ]
     },
     "execution_count": 12,
     "metadata": {},
     "output_type": "execute_result"
    }
   ],
   "source": [
    "with pm.Model() as model:\n",
    "    expr((10, 10))\n",
    "list(map(lambda v: v.dshape, model.vars))"
   ]
  },
  {
   "cell_type": "markdown",
   "metadata": {},
   "source": [
    "If you need some more complex transformation other than builtin tensor operations you can use a simple wrapper over a function"
   ]
  },
  {
   "cell_type": "code",
   "execution_count": 13,
   "metadata": {},
   "outputs": [
    {
     "data": {
      "text/plain": [
       "functools.partial(<class 'gelato.specs.base.SpecVar'>, <theano.tensor.nlinalg.Det object at 0x7fa21c853390>)"
      ]
     },
     "execution_count": 13,
     "metadata": {},
     "output_type": "execute_result"
    }
   ],
   "source": [
    "from gelato.specs import as_spec_op\n",
    "spec_det = as_spec_op(theano.tensor.nlinalg.det)\n",
    "spec_det"
   ]
  },
  {
   "cell_type": "markdown",
   "metadata": {},
   "source": [
    "Determinant will be taken only after `__call__`"
   ]
  },
  {
   "cell_type": "code",
   "execution_count": 14,
   "metadata": {},
   "outputs": [
    {
     "data": {
      "text/plain": [
       "SpecOp.Det"
      ]
     },
     "execution_count": 14,
     "metadata": {},
     "output_type": "execute_result"
    }
   ],
   "source": [
    "spec_det(expr)"
   ]
  },
  {
   "cell_type": "markdown",
   "metadata": {},
   "source": [
    "### Disclamer\n",
    "I have to note that Gelato has some overhead magic with wrappring lasagne layers. Espessially there is no need to use gelato layer if you pass gelato `Spec` class to Lasagne layer to define a weight. But using them happens to be very convenient. There is a handy function `set_default_spec` that declares what prior to use if none specified. Let's see how it works."
   ]
  },
  {
   "cell_type": "markdown",
   "metadata": {},
   "source": [
    "## Priors\n",
    "In this setup I decided to use hyperprior to show it can be done very easily. Moreover it worked better for me, no need to choose regularization constant."
   ]
  },
  {
   "cell_type": "code",
   "execution_count": 34,
   "metadata": {
    "collapsed": true
   },
   "outputs": [],
   "source": [
    "from gelato.specs import NormalSpec, LognormalSpec, set_default_spec\n",
    "# Now every layer without passed specs will use `NormalSpec(sd=hyper)` as a prior\n",
    "hyper = LognormalSpec(sd=10).with_shape(())\n",
    "set_default_spec(NormalSpec(sd=hyper))"
   ]
  },
  {
   "cell_type": "markdown",
   "metadata": {},
   "source": [
    "## Network"
   ]
  },
  {
   "cell_type": "markdown",
   "metadata": {},
   "source": [
    "The following print output should make you think *\"What's the hell is going on? Is it real?\"*"
   ]
  },
  {
   "cell_type": "code",
   "execution_count": 35,
   "metadata": {},
   "outputs": [
    {
     "name": "stdout",
     "output_type": "stream",
     "text": [
      "True\n",
      "True\n"
     ]
    }
   ],
   "source": [
    "print(issubclass(gelato.layers.InputLayer, pm.Model) and \n",
    "      issubclass(gelato.layers.Conv2DLayer, pm.Model))\n",
    "print(issubclass(gelato.layers.InputLayer, lasagne.layers.Layer) and \n",
    "      issubclass(gelato.layers.Conv2DLayer, lasagne.layers.Layer))"
   ]
  },
  {
   "cell_type": "markdown",
   "metadata": {},
   "source": [
    "Yes, Gelato layers are Models and Layers at the same time. Moreover context is taken from the previous layers so that you no more need `with model: ...` construction for most usecases."
   ]
  },
  {
   "cell_type": "markdown",
   "metadata": {},
   "source": [
    "## Minibatches\n",
    "I prefer storing all my dataset in GPU memory if it is possible to avoid unnessesary data transfers. It is possible with out of the bos pymc3 minibatches"
   ]
  },
  {
   "cell_type": "code",
   "execution_count": 36,
   "metadata": {
    "collapsed": true
   },
   "outputs": [],
   "source": [
    "input_var = pm.Minibatch(X_train, 100, dtype='float32')\n",
    "target_var = pm.Minibatch(y_train, 100, dtype='int32')"
   ]
  },
  {
   "cell_type": "code",
   "execution_count": 37,
   "metadata": {},
   "outputs": [],
   "source": [
    "network = gelato.layers.InputLayer(shape=(None, 1, 28, 28),\n",
    "                                    input_var=input_var)\n",
    "network = gelato.layers.Conv2DLayer(\n",
    "        network, num_filters=32, filter_size=(5, 5),\n",
    "        nonlinearity=lasagne.nonlinearities.tanh)\n",
    "\n",
    "# Max-pooling layer of factor 2 in both dimensions:\n",
    "network = gelato.layers.MaxPool2DLayer(network, pool_size=(2, 2))\n",
    "\n",
    "# Another convolution with 32 5x5 kernels, and another 2x2 pooling:\n",
    "network = gelato.layers.Conv2DLayer(\n",
    "    network, num_filters=32, filter_size=(5, 5),\n",
    "    nonlinearity=lasagne.nonlinearities.tanh)\n",
    "\n",
    "network = gelato.layers.MaxPool2DLayer(network, \n",
    "                                        pool_size=(2, 2))\n",
    "\n",
    "n_hid2 = 176\n",
    "network = gelato.layers.DenseLayer(\n",
    "    network, num_units=n_hid2,\n",
    "    nonlinearity=lasagne.nonlinearities.tanh,\n",
    ")\n",
    "\n",
    "n_hid3 = 64\n",
    "network = gelato.layers.DenseLayer(\n",
    "    network, num_units=n_hid3,\n",
    "    nonlinearity=lasagne.nonlinearities.tanh,\n",
    ")\n",
    "\n",
    "# Finally, we'll add the fully-connected output layer, of 10 softmax units:\n",
    "network = gelato.layers.DenseLayer(\n",
    "    network, num_units=10,\n",
    "    nonlinearity=lasagne.nonlinearities.softmax,\n",
    ")\n",
    "\n",
    "prediction = gelato.layers.get_output(network)\n",
    "\n",
    "# Gelato layers are designed to simlify the whole process\n",
    "# and are pm.Models as well as lasagne.layer.Layer\n",
    "# You can work in the contest of the last defined layer to define likelihood\n",
    "with network:\n",
    "    likelihood = pm.Categorical('out', \n",
    "                   prediction,\n",
    "                   observed=target_var,\n",
    "                   total_size=total_size)"
   ]
  },
  {
   "cell_type": "markdown",
   "metadata": {},
   "source": [
    "We now minimize the following objective\n",
    "$$-1 * ELBO=KL[q(w|mu,rho)||p(w)] - E_q[log p(D|w)]$$"
   ]
  },
  {
   "cell_type": "markdown",
   "metadata": {},
   "source": [
    "Getting ELBO for model and optimizing it is quite easy and can be cone just in few lines. As we will perform batch training we have to say what population size we have for observed var or else we'll get invalid approximation.\n",
    "\n",
    "Let's see' what we've created"
   ]
  },
  {
   "cell_type": "code",
   "execution_count": 38,
   "metadata": {},
   "outputs": [
    {
     "data": {
      "text/plain": [
       "[DenseLayer_8770668666937_W:62_log__,\n",
       " DenseLayer_8770668666937_W,\n",
       " DenseLayer_8770668666937_b]"
      ]
     },
     "execution_count": 38,
     "metadata": {},
     "output_type": "execute_result"
    }
   ],
   "source": [
    "network.vars"
   ]
  },
  {
   "cell_type": "markdown",
   "metadata": {},
   "source": [
    "Seems something went wrong:(\n",
    "\n",
    "That's not the thing you expect, but that's just a nested model.\n",
    "You can find your root model accessing `network.root`. It stores all parameters, potentials, likelihood, etc"
   ]
  },
  {
   "cell_type": "code",
   "execution_count": 39,
   "metadata": {},
   "outputs": [
    {
     "data": {
      "text/plain": [
       "[Conv2DLayer_8770666142861_W:46_log__,\n",
       " Conv2DLayer_8770666142861_W,\n",
       " Conv2DLayer_8770666142861_b,\n",
       " Conv2DLayer_-9223363266188632965_W:50_log__,\n",
       " Conv2DLayer_-9223363266188632965_W,\n",
       " Conv2DLayer_-9223363266188632965_b,\n",
       " DenseLayer_8770666122735_W:54_log__,\n",
       " DenseLayer_8770666122735_W,\n",
       " DenseLayer_8770666122735_b,\n",
       " DenseLayer_8770666122553_W:58_log__,\n",
       " DenseLayer_8770666122553_W,\n",
       " DenseLayer_8770666122553_b,\n",
       " DenseLayer_8770668666937_W:62_log__,\n",
       " DenseLayer_8770668666937_W,\n",
       " DenseLayer_8770668666937_b]"
      ]
     },
     "execution_count": 39,
     "metadata": {},
     "output_type": "execute_result"
    }
   ],
   "source": [
    "network.root.vars"
   ]
  },
  {
   "cell_type": "markdown",
   "metadata": {},
   "source": [
    "## Inference"
   ]
  },
  {
   "cell_type": "code",
   "execution_count": 40,
   "metadata": {
    "collapsed": true
   },
   "outputs": [],
   "source": [
    "# I prefer object oriented style for doing inference in PyMC3 it allows more flexibility\n",
    "# Remember that we need root model here\n",
    "with network.root:\n",
    "    advi = pm.ADVI(scale_cost_to_minibatch=False)"
   ]
  },
  {
   "cell_type": "code",
   "execution_count": null,
   "metadata": {},
   "outputs": [
    {
     "name": "stderr",
     "output_type": "stream",
     "text": [
      "Average Loss = 3.2991e+05:   4%|▎         | 2945/80000 [00:22<09:51, 130.23it/s]"
     ]
    }
   ],
   "source": [
    "advi.fit(80000, obj_optimizer=pm.adam(learning_rate=1e-3))"
   ]
  },
  {
   "cell_type": "code",
   "execution_count": 35,
   "metadata": {
    "collapsed": true
   },
   "outputs": [],
   "source": [
    "#import pickle\n",
    "#params = advi.approx.shared_params\n",
    "#pickle.dump(params, open('params.pymc3','wb'))"
   ]
  },
  {
   "cell_type": "code",
   "execution_count": 36,
   "metadata": {
    "collapsed": true
   },
   "outputs": [],
   "source": [
    "#advi.approx.shared_params = pickle.load(open('params.pymc3','rb'))"
   ]
  },
  {
   "cell_type": "code",
   "execution_count": 42,
   "metadata": {
    "scrolled": false
   },
   "outputs": [
    {
     "data": {
      "image/png": "[encoded data removed]",
      "text/plain": [
       "<matplotlib.figure.Figure at 0x7fa20fa59240>"
      ]
     },
     "metadata": {},
     "output_type": "display_data"
    }
   ],
   "source": [
    "plt.figure(figsize=(16,9))\n",
    "plt.plot(advi.hist, alpha=.3);"
   ]
  },
  {
   "cell_type": "markdown",
   "metadata": {},
   "source": [
    "### Important to note\n",
    "Calling `lasagne.layers.get_output` we in fact get symbolic output of the model. The inferred approximation is not yet applied. Good news are that `pymc3.variatonal` is designed to meet the needs of Bayesian deep learning. It is pretty easy to make it work with minimal efforts and lines of code."
   ]
  },
  {
   "cell_type": "code",
   "execution_count": 43,
   "metadata": {},
   "outputs": [],
   "source": [
    "from theano.configparser import change_flags\n",
    "\n",
    "# The right way to compile a function without changing important pymc3 flag `compute_test_value='raise'`\n",
    "with change_flags(compute_test_value='ignore'):\n",
    "    # create symbolic input image\n",
    "    inpimg = tt.tensor4('input')\n",
    "    # number of samples for posterior predictive distribution\n",
    "    it = tt.iscalar('i')\n",
    "    # posterior predictive probability\n",
    "    _prediction = gelato.layers.get_output(network)\n",
    "    # then replacements follow\n",
    "    prediction = advi.approx.apply_replacements(\n",
    "        _prediction, deterministic=True, \n",
    "        # you can replace minibatch tensor with symbolic input\n",
    "        more_replacements={input_var:inpimg})\n",
    "    \n",
    "    predictions = advi.approx.sample_node(\n",
    "        _prediction, it, \n",
    "        more_replacements={input_var:inpimg})\n",
    "    # That is it, finally we compile both functions\n",
    "    predictions_f = theano.function([inpimg, theano.In(it, 's', 10)], predictions)\n",
    "    prediction_f = theano.function([inpimg], prediction)"
   ]
  },
  {
   "cell_type": "markdown",
   "metadata": {},
   "source": [
    "## Making predictions\n",
    "\n",
    "There are different approaches to make decisions under Bayesian setup. One can use __MAP__ esimation for prediction, other options are to use mean of the posterior or predictive distribution and integrate out any statistics, usually mean or mode. I'll compare MAP and posterior predictive mode"
   ]
  },
  {
   "cell_type": "code",
   "execution_count": 44,
   "metadata": {
    "collapsed": true
   },
   "outputs": [],
   "source": [
    "from scipy.stats import mode\n",
    "y_pred_MAP = np.argmax(prediction_f(X_test), axis=1)\n",
    "error_under_MAP = y_pred_MAP != y_test\n",
    "error_rate_under_MAP = error_under_MAP.mean()\n",
    "\n",
    "# distribution for probabilistic predictions\n",
    "y_preds_posterior = predictions_f(X_test, 100)\n",
    "# take distribution for modes\n",
    "# than integrate out mode for modes\n",
    "y_pred_posterior = mode(np.argmax(y_preds_posterior, axis=-1), axis=0).mode[0]\n",
    "error_under_posterior = y_pred_posterior != y_test\n",
    "error_rate_under_posterior = error_under_posterior.mean()"
   ]
  },
  {
   "cell_type": "code",
   "execution_count": 45,
   "metadata": {},
   "outputs": [
    {
     "name": "stdout",
     "output_type": "stream",
     "text": [
      "MAP                      : 0.095900\n",
      "predictive posterior mode: 0.074800\n"
     ]
    }
   ],
   "source": [
    "print('MAP                      : %f' % error_rate_under_MAP)\n",
    "print('predictive posterior mode: %f' % error_rate_under_posterior)"
   ]
  },
  {
   "cell_type": "markdown",
   "metadata": {},
   "source": [
    "Seems like MAP estimation may be not the best way to predict. On the other hand it is much faster"
   ]
  },
  {
   "cell_type": "code",
   "execution_count": 46,
   "metadata": {
    "collapsed": true
   },
   "outputs": [],
   "source": [
    "def check_the_error_at(idx):\n",
    "    print('true:', y_test[error_under_posterior][idx],'prediction:', y_pred_posterior[error_under_posterior][idx])\n",
    "    plt.gray();plt.matshow(X_test[error_under_posterior][idx][0]);plt.show();"
   ]
  },
  {
   "cell_type": "code",
   "execution_count": 47,
   "metadata": {},
   "outputs": [
    {
     "name": "stdout",
     "output_type": "stream",
     "text": [
      "true: 3.0 prediction: 2\n"
     ]
    },
    {
     "data": {
      "text/plain": [
       "<matplotlib.figure.Figure at 0x7fa1497cbc18>"
      ]
     },
     "metadata": {},
     "output_type": "display_data"
    },
    {
     "data": {
      "image/png": "[encoded data removed]",
      "text/plain": [
       "<matplotlib.figure.Figure at 0x7fa14368a748>"
      ]
     },
     "metadata": {},
     "output_type": "display_data"
    }
   ],
   "source": [
    "check_the_error_at(0)"
   ]
  },
  {
   "cell_type": "code",
   "execution_count": 48,
   "metadata": {},
   "outputs": [
    {
     "name": "stdout",
     "output_type": "stream",
     "text": [
      "true: 9.0 prediction: 4\n"
     ]
    },
    {
     "data": {
      "text/plain": [
       "<matplotlib.figure.Figure at 0x7fa1436929e8>"
      ]
     },
     "metadata": {},
     "output_type": "display_data"
    },
    {
     "data": {
      "image/png": "[encoded data removed]",
      "text/plain": [
       "<matplotlib.figure.Figure at 0x7fa1437002e8>"
      ]
     },
     "metadata": {},
     "output_type": "display_data"
    }
   ],
   "source": [
    "check_the_error_at(1)"
   ]
  },
  {
   "cell_type": "markdown",
   "metadata": {},
   "source": [
    "# Uncertainty\n",
    "From a glance uncertainty is not important. But I'll show that it can used for making decisions.\n",
    "\n",
    "\n",
    "## Simple variance \n",
    "Let's calculate average variance for probability predictions in correct pedictions and wrong predictions. I don't use Chi squared statistics to illustrate the difference as [@twiecki](https://github.com/twiecki) did. But still, this picture gives an evidence that mistakes are done with more quantity of uncertainty and thus can be potentially treated as problebatic examples."
   ]
  },
  {
   "cell_type": "code",
   "execution_count": 49,
   "metadata": {
    "scrolled": true
   },
   "outputs": [
    {
     "data": {
      "text/plain": [
       "<matplotlib.legend.Legend at 0x7fa1439f6550>"
      ]
     },
     "execution_count": 49,
     "metadata": {},
     "output_type": "execute_result"
    },
    {
     "data": {
      "image/png": "[encoded data removed]",
      "text/plain": [
       "<matplotlib.figure.Figure at 0x7fa143620438>"
      ]
     },
     "metadata": {},
     "output_type": "display_data"
    }
   ],
   "source": [
    "plt.plot(y_preds_posterior.var(0)[error_under_posterior].mean(0), label='errors')\n",
    "plt.plot(y_preds_posterior.var(0)[~error_under_posterior].mean(0), label='correct')\n",
    "plt.plot(y_preds_posterior.var(0).mean(0), label='all')\n",
    "plt.legend()"
   ]
  },
  {
   "cell_type": "markdown",
   "metadata": {},
   "source": [
    "Wow, variance seems to be much higher for pictures where error was done"
   ]
  },
  {
   "cell_type": "markdown",
   "metadata": {},
   "source": [
    "## Expected error rate (Inconsistency in predictions)\n",
    "\n",
    "We can get the posterior distribution for predictions. That gives a lot of information for us. When we constructed `y_pred_posterior` we minimized that expected rate of error, taking the mode of the predictive distribution. Note that is true for categorical predictions. For regression problem with L2 loss one preferes to integrate out mean of the posterior.\n",
    "\n",
    "__Disclamer__: that's not exactly the expected error for object classification but for estimating the right statistic of distribution. In out case we estimate mode for categorical distribution. This error is about predicting wrong mode and thus taking another desision."
   ]
  },
  {
   "cell_type": "code",
   "execution_count": 50,
   "metadata": {},
   "outputs": [
    {
     "data": {
      "text/plain": [
       "<matplotlib.text.Text at 0x7fa1436a5a20>"
      ]
     },
     "execution_count": 50,
     "metadata": {},
     "output_type": "execute_result"
    },
    {
     "data": {
      "image/png": "[encoded data removed]",
      "text/plain": [
       "<matplotlib.figure.Figure at 0x7fa14368a4e0>"
      ]
     },
     "metadata": {},
     "output_type": "display_data"
    }
   ],
   "source": [
    "y_preds_labels = np.argmax(y_preds_posterior, axis=-1)\n",
    "prediction_expected_error_rate = (y_preds_labels != y_pred_posterior).mean(0)\n",
    "plt.hist(prediction_expected_error_rate, bins=20)\n",
    "plt.title('Expected Error Rate');\n",
    "plt.xlabel('E[error rate]')\n",
    "plt.ylabel('#observations')"
   ]
  },
  {
   "cell_type": "markdown",
   "metadata": {},
   "source": [
    "Seems like our model is not always confident in predictions and is aware of it. Let's check how often it happens so"
   ]
  },
  {
   "cell_type": "code",
   "execution_count": 51,
   "metadata": {},
   "outputs": [
    {
     "data": {
      "text/plain": [
       "0.377"
      ]
     },
     "execution_count": 51,
     "metadata": {},
     "output_type": "execute_result"
    }
   ],
   "source": [
    "((prediction_expected_error_rate != 0) == error_under_posterior).mean()"
   ]
  },
  {
   "cell_type": "markdown",
   "metadata": {},
   "source": [
    "In 37% cases our model is not confident enough and it leeds to mistake. \n",
    "\n",
    "## High confident errors\n",
    "Next. How often is out model overconfident? In other words it seems all to be okay but we have an error."
   ]
  },
  {
   "cell_type": "code",
   "execution_count": 52,
   "metadata": {},
   "outputs": [
    {
     "data": {
      "text/plain": [
       "0.0053475935828877002"
      ]
     },
     "execution_count": 52,
     "metadata": {},
     "output_type": "execute_result"
    }
   ],
   "source": [
    "(prediction_expected_error_rate[error_under_posterior] == 0).mean()"
   ]
  },
  {
   "cell_type": "markdown",
   "metadata": {},
   "source": [
    "Good news, It happens pretty rare, exactly 4 times."
   ]
  },
  {
   "cell_type": "code",
   "execution_count": 53,
   "metadata": {},
   "outputs": [
    {
     "data": {
      "text/plain": [
       "4"
      ]
     },
     "execution_count": 53,
     "metadata": {},
     "output_type": "execute_result"
    }
   ],
   "source": [
    "(prediction_expected_error_rate[error_under_posterior] == 0).sum()"
   ]
  },
  {
   "cell_type": "code",
   "execution_count": 54,
   "metadata": {
    "collapsed": true
   },
   "outputs": [],
   "source": [
    "houston_we_have_a_problem = prediction_expected_error_rate[error_under_posterior] == 0"
   ]
  },
  {
   "cell_type": "code",
   "execution_count": 55,
   "metadata": {
    "collapsed": true
   },
   "outputs": [],
   "source": [
    "def problem_display():\n",
    "    for i in range(houston_we_have_a_problem.sum()):\n",
    "        print('true:', y_test[error_under_posterior][houston_we_have_a_problem][i],\n",
    "              'prediction:', y_pred_posterior[error_under_posterior][houston_we_have_a_problem][i])\n",
    "        plt.gray();plt.matshow(X_test[error_under_posterior][houston_we_have_a_problem][i][0]);plt.show();"
   ]
  },
  {
   "cell_type": "code",
   "execution_count": 56,
   "metadata": {},
   "outputs": [
    {
     "name": "stdout",
     "output_type": "stream",
     "text": [
      "true: 7.0 prediction: 2\n"
     ]
    },
    {
     "data": {
      "text/plain": [
       "<matplotlib.figure.Figure at 0x7fa20fb68f28>"
      ]
     },
     "metadata": {},
     "output_type": "display_data"
    },
    {
     "data": {
      "image/png": "[encoded data removed]",
      "text/plain": [
       "<matplotlib.figure.Figure at 0x7fa1439ddcc0>"
      ]
     },
     "metadata": {},
     "output_type": "display_data"
    },
    {
     "name": "stdout",
     "output_type": "stream",
     "text": [
      "true: 7.0 prediction: 4\n"
     ]
    },
    {
     "data": {
      "text/plain": [
       "<matplotlib.figure.Figure at 0x7fa144af4160>"
      ]
     },
     "metadata": {},
     "output_type": "display_data"
    },
    {
     "data": {
      "image/png": "[encoded data removed]",
      "text/plain": [
       "<matplotlib.figure.Figure at 0x7fa20fa59668>"
      ]
     },
     "metadata": {},
     "output_type": "display_data"
    },
    {
     "name": "stdout",
     "output_type": "stream",
     "text": [
      "true: 6.0 prediction: 0\n"
     ]
    },
    {
     "data": {
      "text/plain": [
       "<matplotlib.figure.Figure at 0x7fa145b94710>"
      ]
     },
     "metadata": {},
     "output_type": "display_data"
    },
    {
     "data": {
      "image/png": "[encoded data removed]",
      "text/plain": [
       "<matplotlib.figure.Figure at 0x7fa145b55b00>"
      ]
     },
     "metadata": {},
     "output_type": "display_data"
    },
    {
     "name": "stdout",
     "output_type": "stream",
     "text": [
      "true: 3.0 prediction: 7\n"
     ]
    },
    {
     "data": {
      "text/plain": [
       "<matplotlib.figure.Figure at 0x7fa145f6e908>"
      ]
     },
     "metadata": {},
     "output_type": "display_data"
    },
    {
     "data": {
      "image/png": "[encoded data removed]",
      "text/plain": [
       "<matplotlib.figure.Figure at 0x7fa145eca6a0>"
      ]
     },
     "metadata": {},
     "output_type": "display_data"
    }
   ],
   "source": [
    "problem_display()"
   ]
  },
  {
   "cell_type": "markdown",
   "metadata": {},
   "source": [
    "I would rather agree with my network sometimes :)"
   ]
  },
  {
   "cell_type": "markdown",
   "metadata": {},
   "source": [
    "## Low confidence predictions\n",
    "Let's see where model estimates the distribution over classes worst"
   ]
  },
  {
   "cell_type": "code",
   "execution_count": 57,
   "metadata": {
    "collapsed": true
   },
   "outputs": [],
   "source": [
    "top_three = np.argsort(prediction_expected_error_rate)[-3:][::-1]"
   ]
  },
  {
   "cell_type": "code",
   "execution_count": 58,
   "metadata": {},
   "outputs": [
    {
     "data": {
      "text/plain": [
       "array([9182, 9254, 7991])"
      ]
     },
     "execution_count": 58,
     "metadata": {},
     "output_type": "execute_result"
    }
   ],
   "source": [
    "top_three"
   ]
  },
  {
   "cell_type": "code",
   "execution_count": 59,
   "metadata": {
    "collapsed": true
   },
   "outputs": [],
   "source": [
    "def low_confidence_examples_display():\n",
    "    for i in top_three:\n",
    "        print('true:', y_test[i],\n",
    "              'prediction:', y_pred_posterior[i],\n",
    "              'expected error rate:', prediction_expected_error_rate[i]\n",
    "             )\n",
    "        plt.gray();plt.matshow(X_test[i][0]);plt.show();"
   ]
  },
  {
   "cell_type": "code",
   "execution_count": 60,
   "metadata": {},
   "outputs": [
    {
     "name": "stdout",
     "output_type": "stream",
     "text": [
      "true: 5.0 prediction: 7 expected error rate: 0.78\n"
     ]
    },
    {
     "data": {
      "text/plain": [
       "<matplotlib.figure.Figure at 0x7fa145feaa20>"
      ]
     },
     "metadata": {},
     "output_type": "display_data"
    },
    {
     "data": {
      "image/png": "[encoded data removed]",
      "text/plain": [
       "<matplotlib.figure.Figure at 0x7fa144abec18>"
      ]
     },
     "metadata": {},
     "output_type": "display_data"
    },
    {
     "name": "stdout",
     "output_type": "stream",
     "text": [
      "true: 4.0 prediction: 6 expected error rate: 0.75\n"
     ]
    },
    {
     "data": {
      "text/plain": [
       "<matplotlib.figure.Figure at 0x7fa145fa9b70>"
      ]
     },
     "metadata": {},
     "output_type": "display_data"
    },
    {
     "data": {
      "image/png": "[encoded data removed]",
      "text/plain": [
       "<matplotlib.figure.Figure at 0x7fa14622ee48>"
      ]
     },
     "metadata": {},
     "output_type": "display_data"
    },
    {
     "name": "stdout",
     "output_type": "stream",
     "text": [
      "true: 2.0 prediction: 9 expected error rate: 0.74\n"
     ]
    },
    {
     "data": {
      "text/plain": [
       "<matplotlib.figure.Figure at 0x7fa1460f2b70>"
      ]
     },
     "metadata": {},
     "output_type": "display_data"
    },
    {
     "data": {
      "image/png": "[encoded data removed]",
      "text/plain": [
       "<matplotlib.figure.Figure at 0x7fa145e99a58>"
      ]
     },
     "metadata": {},
     "output_type": "display_data"
    }
   ],
   "source": [
    "low_confidence_examples_display()"
   ]
  },
  {
   "cell_type": "markdown",
   "metadata": {},
   "source": [
    "That's done, I hope model confidence does not seem such vague now. Thank you for reading."
   ]
  }
 ],
 "metadata": {
  "kernelspec": {
   "display_name": "Python 3",
   "language": "python",
   "name": "python3"
  },
  "language_info": {
   "codemirror_mode": {
    "name": "ipython",
    "version": 3
   },
   "file_extension": ".py",
   "mimetype": "text/x-python",
   "name": "python",
   "nbconvert_exporter": "python",
   "pygments_lexer": "ipython3",
   "version": "3.6.1"
  }
 },
 "nbformat": 4,
 "nbformat_minor": 1
}
